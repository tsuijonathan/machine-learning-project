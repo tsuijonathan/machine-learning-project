{
 "cells": [
  {
   "cell_type": "code",
   "execution_count": 2,
   "metadata": {},
   "outputs": [],
   "source": [
    "import pandas as pd\n",
    "from sklearn.model_selection import train_test_split, cross_val_score\n",
    "from sklearn.preprocessing import StandardScaler, OneHotEncoder\n",
    "from sklearn.compose import ColumnTransformer\n",
    "from sklearn.pipeline import Pipeline\n",
    "from sklearn.impute import SimpleImputer\n",
    "from sklearn.ensemble import RandomForestRegressor\n",
    "from sklearn.metrics import mean_absolute_error, r2_score"
   ]
  },
  {
   "cell_type": "code",
   "execution_count": 3,
   "metadata": {},
   "outputs": [
    {
     "name": "stdout",
     "output_type": "stream",
     "text": [
      "airline_name            object\n",
      "flight_code             object\n",
      "departure_city          object\n",
      "arrival_city            object\n",
      "flight_duration          int64\n",
      "stops                    int64\n",
      "price                    int64\n",
      "class                   object\n",
      "days_left                int64\n",
      "departure_time_group    object\n",
      "arrival_time_group      object\n",
      "dtype: object\n"
     ]
    }
   ],
   "source": [
    "df = pd.read_csv('../../data/clean/clean_dataset_df.csv')\n",
    "\n",
    "print(df.dtypes)"
   ]
  },
  {
   "cell_type": "code",
   "execution_count": 4,
   "metadata": {},
   "outputs": [],
   "source": [
    "df_economy = df[df['class'] == 'Economy']\n",
    "df_business = df[df['class'] == 'Business']"
   ]
  },
  {
   "cell_type": "code",
   "execution_count": 5,
   "metadata": {},
   "outputs": [
    {
     "name": "stdout",
     "output_type": "stream",
     "text": [
      "Rows in economy class: 206666\n",
      "Rows in business class: 93487\n"
     ]
    }
   ],
   "source": [
    "print(f'Rows in economy class: {df_economy.shape[0]}')\n",
    "print(f'Rows in business class: {df_business.shape[0]}')"
   ]
  },
  {
   "cell_type": "code",
   "execution_count": null,
   "metadata": {},
   "outputs": [],
   "source": [
    "# preprocess the data\n",
    "def preprocess_data(df):\n",
    "    # handle datetime columns\n",
    "    # df['flight_date'] = pd.to_datetime(df['flight_date'], errors='coerce')\n",
    "    df['departure_time_group'] = pd.to_datetime(df['departure_time_group'], errors='coerce')\n",
    "    df['arrival_time_group'] = pd.to_datetime(df['arrival_time_group'], errors='coerce')\n",
    "    \n",
    "    # handle missing values\n",
    "    # df['flight_date'] = df['flight_date'].fillna(pd.Timestamp('2024-01-01'))\n",
    "    df['departure_time_group'] = df['departure_time_group'].fillna(pd.Timestamp('2024-01-01 00:00:00'))\n",
    "    df['arrival_time_group'] = df['arrival_time_group'].fillna(pd.Timestamp('2024-01-01 00:00:00'))\n",
    "    \n",
    "    # extract datetime features\n",
    "    df['departure_hour'] = df['departure_time_group'].dt.hour\n",
    "    df['arrival_hour'] = df['arrival_time_group'].dt.hour\n",
    "    # df['day_of_week'] = df['flight_date'].dt.dayofweek\n",
    "    \n",
    "    df = df.drop(['departure_time_group', 'arrival_time_group'], axis=1) # drop original datetime columns\n",
    "    \n",
    "    if 'Unnamed: 0' in df.columns:\n",
    "        df = df.drop('Unnamed: 0', axis=1)\n",
    "    \n",
    "    return df\n",
    "\n",
    "# preprocess\n",
    "df_economy = preprocess_data(df_economy)\n",
    "df_business = preprocess_data(df_business)\n",
    "\n",
    "# feature and target columns\n",
    "X_economy = df_economy.drop('price', axis=1)\n",
    "y_economy = df_economy['price']\n",
    "\n",
    "X_business = df_business.drop('price', axis=1)\n",
    "y_business = df_business['price']\n"
   ]
  },
  {
   "cell_type": "code",
   "execution_count": 7,
   "metadata": {},
   "outputs": [],
   "source": [
    "if df_economy.empty:\n",
    "    print('No economy class data available.')\n",
    "else:\n",
    "    # split for economy class\n",
    "    X_economy = df_economy.drop('price', axis=1)\n",
    "    y_economy = df_economy['price']\n",
    "    X_train_economy, X_test_economy, y_train_economy, y_test_economy = train_test_split(X_economy, y_economy, test_size=0.2, random_state=42)\n",
    "\n",
    "if df_business.empty:\n",
    "    print('No business class data available.')\n",
    "else:\n",
    "    # split for business class\n",
    "    X_business = df_business.drop('price', axis=1)\n",
    "    y_business = df_business['price']\n",
    "    X_train_business, X_test_business, y_train_business, y_test_business = train_test_split(X_business, y_business, test_size=0.2, random_state=42)\n"
   ]
  },
  {
   "cell_type": "code",
   "execution_count": 8,
   "metadata": {},
   "outputs": [],
   "source": [
    "# define features before transformer\n",
    "numerical_features = X_economy.select_dtypes(include=['int64', 'float64']).columns\n",
    "categorical_features = X_economy.select_dtypes(include=['object']).columns\n",
    "\n",
    "\n",
    "# transformers for numerical and categorical columns\n",
    "numerical_transformer = Pipeline(steps=[\n",
    "    ('imputer', SimpleImputer(strategy='mean')),  # handle missing values\n",
    "    ('scaler', StandardScaler())  # Scale numerical features\n",
    "])\n",
    "\n",
    "categorical_transformer = Pipeline(steps=[\n",
    "    ('imputer', SimpleImputer(strategy='constant', fill_value='missing')),  # handle missing values\n",
    "    ('encoder', OneHotEncoder(handle_unknown='ignore'))  # One-hot encode categorical features\n",
    "])\n",
    "\n",
    "# combine transformers\n",
    "preprocessor = ColumnTransformer(\n",
    "    transformers=[\n",
    "        ('num', numerical_transformer, numerical_features),\n",
    "        ('cat', categorical_transformer, categorical_features)\n",
    "    ]\n",
    ")"
   ]
  },
  {
   "cell_type": "code",
   "execution_count": null,
   "metadata": {},
   "outputs": [],
   "source": [
    "n_estimators = 10\n",
    "\n",
    "# model pipeline (Random Forest Regressor)\n",
    "model_economy = Pipeline(steps=[\n",
    "    ('preprocessor', preprocessor),\n",
    "    ('regressor', RandomForestRegressor(n_estimators=n_estimators, max_depth=10, random_state=42, n_jobs=-1))\n",
    "])\n",
    "\n",
    "model_business = Pipeline(steps=[\n",
    "    ('preprocessor', preprocessor),\n",
    "    ('regressor', RandomForestRegressor(n_estimators=n_estimators, max_depth=10, random_state=42, n_jobs=-1))\n",
    "])"
   ]
  },
  {
   "cell_type": "code",
   "execution_count": null,
   "metadata": {},
   "outputs": [
    {
     "name": "stdout",
     "output_type": "stream",
     "text": [
      "Mean Absolute Error for Economy Class: 1200.1764278931853\n",
      "R-squared for Economy Class: 0.7469571170006852\n"
     ]
    }
   ],
   "source": [
    "# fit the models\n",
    "model_economy.fit(X_train_economy, y_train_economy)\n",
    "\n",
    "# predict\n",
    "y_pred_economy = model_economy.predict(X_test_economy)\n",
    "\n",
    "# evaluate\n",
    "mae_economy = mean_absolute_error(y_test_economy, y_pred_economy)\n",
    "\n",
    "print(f'Mean Absolute Error for Economy Class: {mae_economy}')\n",
    "\n",
    "# calculate r2\n",
    "r2_economy = r2_score(y_test_economy, y_pred_economy)\n",
    "\n",
    "print(f'R-squared for Economy Class: {r2_economy}')"
   ]
  },
  {
   "cell_type": "code",
   "execution_count": null,
   "metadata": {},
   "outputs": [
    {
     "name": "stdout",
     "output_type": "stream",
     "text": [
      "Mean Absolute Error for Business Class: 4649.520237863189\n",
      "R-squared for Business Class: 0.7254690281023917\n"
     ]
    }
   ],
   "source": [
    "# fit the models\n",
    "model_business.fit(X_train_business, y_train_business)\n",
    "\n",
    "# predict\n",
    "y_pred_business = model_business.predict(X_test_business)\n",
    "\n",
    "# evaluate\n",
    "mae_business = mean_absolute_error(y_test_business, y_pred_business)\n",
    "\n",
    "print(f'Mean Absolute Error for Business Class: {mae_business}')\n",
    "\n",
    "# calculate r2\n",
    "r2_business = r2_score(y_test_business, y_pred_business)\n",
    "\n",
    "print(f'R-squared for Business Class: {r2_business}')\n"
   ]
  },
  {
   "cell_type": "code",
   "execution_count": null,
   "metadata": {},
   "outputs": [
    {
     "name": "stdout",
     "output_type": "stream",
     "text": [
      "Cross-validation accuracy for Business Class: 0.4092693057087353\n"
     ]
    }
   ],
   "source": [
    "# corss validation (5 fold)\n",
    "cv_scores_business = cross_val_score(model_business, X_business, y_business, cv=5)\n",
    "\n",
    "print(f'Cross-validation accuracy for Business Class: {cv_scores_business.mean()}')"
   ]
  },
  {
   "cell_type": "code",
   "execution_count": null,
   "metadata": {},
   "outputs": [
    {
     "name": "stdout",
     "output_type": "stream",
     "text": [
      "Cross-validation accuracy for Economy Class: 0.6473783970626904\n"
     ]
    }
   ],
   "source": [
    "# cross validation (5 fold)\n",
    "cv_scores_economy = cross_val_score(model_economy, X_economy, y_economy, cv=5)\n",
    "\n",
    "print(f'Cross-validation accuracy for Economy Class: {cv_scores_economy.mean()}')"
   ]
  }
 ],
 "metadata": {
  "kernelspec": {
   "display_name": "base",
   "language": "python",
   "name": "python3"
  },
  "language_info": {
   "codemirror_mode": {
    "name": "ipython",
    "version": 3
   },
   "file_extension": ".py",
   "mimetype": "text/x-python",
   "name": "python",
   "nbconvert_exporter": "python",
   "pygments_lexer": "ipython3",
   "version": "3.12.2"
  }
 },
 "nbformat": 4,
 "nbformat_minor": 2
}
