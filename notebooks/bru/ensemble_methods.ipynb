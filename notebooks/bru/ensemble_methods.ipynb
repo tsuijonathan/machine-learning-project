{
 "cells": [
  {
   "cell_type": "markdown",
   "metadata": {},
   "source": [
    "Ensemble Methods for `clean_business_df` and `clean_economy_df`\n",
    "- Bagging and Pasting\n",
    "- Random Forest"
   ]
  },
  {
   "cell_type": "code",
   "execution_count": null,
   "metadata": {},
   "outputs": [],
   "source": [
    "import pandas as pd\n",
    "import numpy as np\n",
    "import matplotlib.pyplot as plt\n",
    "import seaborn as sns\n",
    "from scipy import stats\n",
    "from sklearn.model_selection import train_test_split, cross_val_score\n",
    "from sklearn.metrics import mean_absolute_error, mean_squared_error, r2_score\n",
    "from sklearn.preprocessing import LabelEncoder, StandardScaler, RobustScaler, MinMaxScaler\n",
    "from sklearn.ensemble import BaggingRegressor\n",
    "from sklearn.tree import DecisionTreeRegressor\n",
    "# Import necessary libraries\n",
    "from sklearn.tree import DecisionTreeRegressor\n",
    "from sklearn.ensemble import BaggingRegressor\n",
    "from sklearn.metrics import mean_absolute_error, mean_squared_error, r2_score\n",
    "from sklearn.preprocessing import LabelEncoder\n"
   ]
  },
  {
   "cell_type": "code",
   "execution_count": null,
   "metadata": {},
   "outputs": [],
   "source": [
    "business_df = pd.read_csv('../../data/clean/clean_business_df.csv')\n",
    "economy_df = pd.read_csv('../../data/clean/clean_economy_df.csv')"
   ]
  },
  {
   "cell_type": "code",
   "execution_count": null,
   "metadata": {},
   "outputs": [],
   "source": [
    "business_df.head()"
   ]
  },
  {
   "cell_type": "code",
   "execution_count": null,
   "metadata": {},
   "outputs": [],
   "source": [
    "economy_df.head()"
   ]
  },
  {
   "cell_type": "markdown",
   "metadata": {},
   "source": [
    "### 1. Data Preprocessing\n",
    "- Convert 'flight_date' to datetime to extract relevant time features\n",
    "- Encode categorical features\n",
    "- Define Features (X) and Target (y)\n",
    "- Split Data into Training and Testing sets"
   ]
  },
  {
   "cell_type": "code",
   "execution_count": null,
   "metadata": {},
   "outputs": [],
   "source": [
    "print(business_df.dtypes)"
   ]
  },
  {
   "cell_type": "code",
   "execution_count": null,
   "metadata": {},
   "outputs": [],
   "source": [
    "print(economy_df.dtypes)"
   ]
  },
  {
   "cell_type": "markdown",
   "metadata": {},
   "source": [
    "1.1 Drop columns"
   ]
  },
  {
   "cell_type": "code",
   "execution_count": null,
   "metadata": {},
   "outputs": [],
   "source": [
    "columns_to_drop = ['flight_date', 'flight_code', 'departure_time', 'arrival_time']\n",
    "business_df = business_df.drop(columns=columns_to_drop)\n",
    "economy_df = economy_df.drop(columns=columns_to_drop)"
   ]
  },
  {
   "cell_type": "markdown",
   "metadata": {},
   "source": [
    "1.2. Encode categorical features"
   ]
  },
  {
   "cell_type": "code",
   "execution_count": null,
   "metadata": {},
   "outputs": [],
   "source": [
    "label_encoder = LabelEncoder()\n",
    "\n",
    "# encode categorical ordinal features\n",
    "business_df['departure_time_group'] = label_encoder.fit_transform(business_df['departure_time_group'])\n",
    "economy_df['departure_time_group'] = label_encoder.fit_transform(economy_df['departure_time_group'])\n",
    "\n",
    "business_df['arrival_time_group'] = label_encoder.fit_transform(business_df['arrival_time_group'])\n",
    "economy_df['arrival_time_group'] = label_encoder.fit_transform(economy_df['arrival_time_group'])"
   ]
  },
  {
   "cell_type": "markdown",
   "metadata": {},
   "source": [
    "1.3. Define Features and Target"
   ]
  },
  {
   "cell_type": "code",
   "execution_count": null,
   "metadata": {},
   "outputs": [],
   "source": [
    "# business\n",
    "X_business = business_df[['airline_name', 'flight_duration', 'stops', 'departure_city', 'arrival_city', 'departure_time_group', 'arrival_time_group']]\n",
    "y_business = business_df['price']"
   ]
  },
  {
   "cell_type": "code",
   "execution_count": null,
   "metadata": {},
   "outputs": [],
   "source": [
    "# economy\n",
    "X_economy = economy_df[['airline_name', 'flight_duration', 'stops', 'departure_city', 'arrival_city', 'departure_time_group', 'arrival_time_group']]\n",
    "y_economy = economy_df['price']"
   ]
  },
  {
   "cell_type": "markdown",
   "metadata": {},
   "source": [
    "1.4. Split Data into Training and Testing Sets"
   ]
  },
  {
   "cell_type": "code",
   "execution_count": null,
   "metadata": {},
   "outputs": [],
   "source": [
    "# business\n",
    "X_business_train, X_business_test, y_business_train, y_business_test = train_test_split(X_business, y_business, test_size=0.3, random_state=42)"
   ]
  },
  {
   "cell_type": "code",
   "execution_count": null,
   "metadata": {},
   "outputs": [],
   "source": [
    "# economy\n",
    "X_economy_train, X_economy_test, y_economy_train, y_economy_test = train_test_split(X_economy, y_economy, test_size=0.3, random_state=42)\n"
   ]
  },
  {
   "cell_type": "markdown",
   "metadata": {},
   "source": [
    "## Bagging and Pasting for 'price'"
   ]
  },
  {
   "cell_type": "markdown",
   "metadata": {},
   "source": [
    "### Business Class"
   ]
  },
  {
   "cell_type": "code",
   "execution_count": null,
   "metadata": {},
   "outputs": [],
   "source": [
    "\n",
    "# Check which columns in X_business_train are categorical (strings)\n",
    "categorical_columns = X_business_train.select_dtypes(include=['object']).columns\n",
    "# print(categorical_columns)\n",
    "\n",
    "\n",
    "# Apply label encoding to categorical columns\n",
    "label_encoder = LabelEncoder()\n",
    "\n",
    "for col in categorical_columns:\n",
    "    X_business_train[col] = label_encoder.fit_transform(X_business_train[col])\n",
    "    X_business_test[col] = label_encoder.transform(X_business_test[col])\n"
   ]
  },
  {
   "cell_type": "code",
   "execution_count": null,
   "metadata": {},
   "outputs": [],
   "source": [
    "\n",
    "\n",
    "# init base learner (DecisionTreeRegressor)\n",
    "base_model = DecisionTreeRegressor(random_state=42)\n",
    "\n",
    "# init Bagging Regressor with bootstrap=False to simulate pasting\n",
    "pasting_model = BaggingRegressor(base_model, n_estimators=100, bootstrap=False, max_samples=1.0, random_state=42)\n",
    "\n",
    "# init Bagging Regressor with base model\n",
    "bagging_model = BaggingRegressor(base_model, n_estimators=100, random_state=42)\n",
    "\n",
    "# train the model\n",
    "bagging_model.fit(X_business_train, y_business_train)\n",
    "\n",
    "# make predictions\n",
    "y_pred = bagging_model.predict(X_business_test)\n",
    "\n",
    "# train the model\n",
    "pasting_model.fit(X_business_train, y_business_train)\n",
    "\n",
    "# make predictions\n",
    "y_pred_pasting = pasting_model.predict(X_business_test)\n",
    "\n",
    "# evaluate\n",
    "print(\"Bagging Regressor Evaluation for Business Class:\")\n",
    "print(\"Mean Absolute Error (MAE):\", mean_absolute_error(y_business_test, y_pred))\n",
    "print(\"Mean Squared Error (MSE):\", mean_squared_error(y_business_test, y_pred))\n",
    "print(\"R-squared (R2) Score:\", r2_score(y_business_test, y_pred))\n",
    "\n",
    "print(\"\\nSimulated Pasting Regressor Evaluation for Business Class:\")\n",
    "print(\"Mean Absolute Error (MAE):\", mean_absolute_error(y_business_test, y_pred_pasting))\n",
    "print(\"Mean Squared Error (MSE):\", mean_squared_error(y_business_test, y_pred_pasting))\n",
    "print(\"R-squared (R2) Score:\", r2_score(y_business_test, y_pred_pasting))\n"
   ]
  },
  {
   "cell_type": "code",
   "execution_count": null,
   "metadata": {},
   "outputs": [],
   "source": [
    "# Actual vs Predicted Plot\n",
    "plt.figure(figsize=(8, 6))\n",
    "plt.scatter(y_business_test, y_pred_pasting, color='blue', alpha=0.6)\n",
    "plt.plot([min(y_business_test), max(y_business_test)], [min(y_business_test), max(y_business_test)], color='red', linestyle='--')\n",
    "plt.title(\"Actual vs Predicted Prices (Business Class)\")\n",
    "plt.xlabel(\"Actual Prices\")\n",
    "plt.ylabel(\"Predicted Prices\")\n",
    "plt.grid(True)\n",
    "plt.show()"
   ]
  },
  {
   "cell_type": "code",
   "execution_count": null,
   "metadata": {},
   "outputs": [],
   "source": [
    "# Residual Plot\n",
    "residuals = y_business_test - y_pred_pasting\n",
    "plt.figure(figsize=(8, 6))\n",
    "sns.residplot(x=y_pred_pasting, y=residuals, lowess=True, line_kws={'color': 'red'})\n",
    "plt.title(\"Residuals Plot\")\n",
    "plt.xlabel(\"Predicted Prices\")\n",
    "plt.ylabel(\"Residuals (Actual - Predicted)\")\n",
    "plt.grid(True)\n",
    "plt.show()"
   ]
  },
  {
   "cell_type": "code",
   "execution_count": null,
   "metadata": {},
   "outputs": [],
   "source": [
    "# Feature Importance Plot\n",
    "importances = pasting_model.estimators_[0].feature_importances_\n",
    "features = X_business.columns\n",
    "\n",
    "plt.figure(figsize=(8, 6))\n",
    "plt.barh(features, importances)\n",
    "plt.title(\"Feature Importance from Decision Tree Base Learner (Business Class)\")\n",
    "plt.xlabel(\"Importance\")\n",
    "plt.ylabel(\"Features\")\n",
    "plt.grid(True)\n",
    "plt.show()"
   ]
  },
  {
   "cell_type": "code",
   "execution_count": null,
   "metadata": {},
   "outputs": [],
   "source": [
    "# 4. Prediction Error Distribution (Histogram of Residuals)\n",
    "plt.figure(figsize=(8, 6))\n",
    "sns.histplot(residuals, kde=True, color='green')\n",
    "plt.title(\"Prediction Error Distribution (Business Class)\")\n",
    "plt.xlabel(\"Residuals (Actual - Predicted)\")\n",
    "plt.ylabel(\"Frequency\")\n",
    "plt.grid(True)\n",
    "plt.show()"
   ]
  },
  {
   "cell_type": "markdown",
   "metadata": {},
   "source": [
    "### Economy Class"
   ]
  },
  {
   "cell_type": "markdown",
   "metadata": {},
   "source": [
    "Outlier Detection using Z-Score"
   ]
  },
  {
   "cell_type": "code",
   "execution_count": null,
   "metadata": {},
   "outputs": [],
   "source": [
    "# Assuming you have your dataset in X_economy_train as a pandas DataFrame\n",
    "# Calculate Z-scores for each feature\n",
    "z_scores = np.abs(stats.zscore(X_economy_train))\n",
    "\n",
    "# Set a threshold (usually 3 or -3 for Z-scores)\n",
    "outliers = (z_scores > 3)\n",
    "\n",
    "# Identify the rows with outliers\n",
    "outlier_indices = np.where(outliers)[0]\n",
    "outlier_rows = X_economy_train.iloc[outlier_indices]\n",
    "\n",
    "print(f\"Number of outliers: {len(outlier_rows)}\")\n",
    "print(outlier_rows)\n",
    "\n",
    "# Optionally, remove outliers\n",
    "X_economy_train_clean = X_economy_train[~np.any(outliers, axis=1)]\n",
    "y_economy_train_clean = y_economy_train[~np.any(outliers, axis=1)]\n",
    "\n",
    "print(\"Shape of data after removing outliers:\", X_economy_train_clean.shape)\n"
   ]
  },
  {
   "cell_type": "code",
   "execution_count": null,
   "metadata": {},
   "outputs": [],
   "source": [
    "\n",
    "\n",
    "# Split the data into training and testing sets\n",
    "X_economy_train, X_economy_test, y_economy_train, y_economy_test = train_test_split(X_economy, y_economy, test_size=0.3, random_state=42)\n",
    "\n",
    "# Initialize the base learner (DecisionTreeRegressor)\n",
    "base_model = DecisionTreeRegressor(random_state=42)\n",
    "\n",
    "# Initialize Bagging Regressor with bootstrap=False to simulate pasting\n",
    "pasting_model = BaggingRegressor(base_model, n_estimators=100, bootstrap=False, max_samples=1.0, random_state=42)\n",
    "\n",
    "# Initialize Bagging Regressor with the base model\n",
    "bagging_model = BaggingRegressor(base_model, n_estimators=100, random_state=42)\n",
    "\n",
    "# Train the Bagging Regressor\n",
    "bagging_model.fit(X_economy_train_scaled, y_economy_train)\n",
    "\n",
    "# Make predictions\n",
    "y_pred = bagging_model.predict(X_economy_test_scaled)\n",
    "\n",
    "# Train the Simulated Pasting Regressor\n",
    "pasting_model.fit(X_economy_train_scaled, y_economy_train)\n",
    "\n",
    "# Make predictions\n",
    "y_pred_pasting = pasting_model.predict(X_economy_test_scaled)\n",
    "\n",
    "# Evaluate the Bagging Model\n",
    "print(\"Bagging Regressor Evaluation for Economy Class:\")\n",
    "print(\"Mean Absolute Error (MAE):\", mean_absolute_error(y_economy_test, y_pred))\n",
    "print(\"Mean Squared Error (MSE):\", mean_squared_error(y_economy_test, y_pred))\n",
    "print(\"R-squared (R2) Score:\", r2_score(y_economy_test, y_pred))\n",
    "\n",
    "# Evaluate the Simulated Pasting Model\n",
    "print(\"\\nSimulated Pasting Regressor Evaluation for Economy Class:\")\n",
    "print(\"Mean Absolute Error (MAE):\", mean_absolute_error(y_economy_test, y_pred_pasting))\n",
    "print(\"Mean Squared Error (MSE):\", mean_squared_error(y_economy_test, y_pred_pasting))\n",
    "print(\"R-squared (R2) Score:\", r2_score(y_economy_test, y_pred_pasting))\n"
   ]
  },
  {
   "cell_type": "code",
   "execution_count": null,
   "metadata": {},
   "outputs": [],
   "source": [
    "# # Actual vs Predicted Plot\n",
    "# plt.figure(figsize=(8, 6))\n",
    "# plt.scatter(y_economy_test, y_pred_pasting, color='blue', alpha=0.6)\n",
    "# plt.plot([min(y_economy_test), max(y_economy_test)], [min(y_economy_test), max(y_economy_test)], color='red', linestyle='--')\n",
    "# plt.title(\"Actual vs Predicted Prices (Economy Class)\")\n",
    "# plt.xlabel(\"Actual Prices\")\n",
    "# plt.ylabel(\"Predicted Prices\")\n",
    "# plt.grid(True)\n",
    "# plt.show()"
   ]
  },
  {
   "cell_type": "code",
   "execution_count": null,
   "metadata": {},
   "outputs": [],
   "source": [
    "# # Residual Plot\n",
    "# residuals = y_economy_test - y_pred_pasting\n",
    "# plt.figure(figsize=(8, 6))\n",
    "# sns.residplot(x=y_pred_pasting, y=residuals, lowess=True, line_kws={'color': 'red'})\n",
    "# plt.title(\"Residuals Plot (Economy Class)\")\n",
    "# plt.xlabel(\"Predicted Prices\")\n",
    "# plt.ylabel(\"Residuals (Actual - Predicted)\")\n",
    "# plt.grid(True)\n",
    "# plt.show()"
   ]
  },
  {
   "cell_type": "code",
   "execution_count": null,
   "metadata": {},
   "outputs": [],
   "source": [
    "# # Feature Importance Plot\n",
    "# importances = pasting_model.estimators_[0].feature_importances_\n",
    "# features = X_economy.columns\n",
    "\n",
    "# plt.figure(figsize=(8, 6))\n",
    "# plt.barh(features, importances)\n",
    "# plt.title(\"Feature Importance from Decision Tree Base Learner (Economy Class)\")\n",
    "# plt.xlabel(\"Importance\")\n",
    "# plt.ylabel(\"Features\")\n",
    "# plt.grid(True)\n",
    "# plt.show()"
   ]
  },
  {
   "cell_type": "code",
   "execution_count": null,
   "metadata": {},
   "outputs": [],
   "source": [
    "# # Prediction Error Distribution (Histogram of Residuals)\n",
    "# plt.figure(figsize=(8, 6))\n",
    "# sns.histplot(residuals, kde=True, color='green')\n",
    "# plt.title(\"Prediction Error Distribution (Economy Class)\")\n",
    "# plt.xlabel(\"Residuals (Actual - Predicted)\")\n",
    "# plt.ylabel(\"Frequency\")\n",
    "# plt.grid(True)\n",
    "# plt.show()"
   ]
  },
  {
   "cell_type": "markdown",
   "metadata": {},
   "source": []
  }
 ],
 "metadata": {
  "kernelspec": {
   "display_name": "base",
   "language": "python",
   "name": "python3"
  },
  "language_info": {
   "codemirror_mode": {
    "name": "ipython",
    "version": 3
   },
   "file_extension": ".py",
   "mimetype": "text/x-python",
   "name": "python",
   "nbconvert_exporter": "python",
   "pygments_lexer": "ipython3",
   "version": "3.12.2"
  }
 },
 "nbformat": 4,
 "nbformat_minor": 2
}
