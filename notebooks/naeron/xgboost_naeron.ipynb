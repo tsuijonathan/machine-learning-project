{
 "cells": [
  {
   "cell_type": "code",
   "execution_count": null,
   "metadata": {},
   "outputs": [],
   "source": [
    "# Importing the libraries needed to compute this notebook\n",
    "# You may need to install xgboost\n",
    "import yaml\n",
    "import xgboost\n",
    "import numpy as np\n",
    "import pandas as pd\n",
    "import matplotlib.pyplot as plt\n",
    "from sklearn.preprocessing import LabelEncoder\n",
    "from sklearn.model_selection import train_test_split\n",
    "from sklearn.metrics import mean_squared_error, r2_score\n",
    "from matplotlib.ticker import FuncFormatter"
   ]
  },
  {
   "cell_type": "code",
   "execution_count": null,
   "metadata": {},
   "outputs": [],
   "source": [
    "# Importing clean datasets from yaml file\n",
    "with open(\"../../config.yaml\", \"r\") as file:\n",
    "    config = yaml.safe_load(file)\n",
    "\n",
    "df_business = pd.read_csv(config['output_data']['business_class_data'])\n",
    "df_economy = pd.read_csv(config['output_data']['economy_class_data'])\n",
    "df_bookings = pd.read_csv(config['output_data']['clean_data'])"
   ]
  },
  {
   "cell_type": "code",
   "execution_count": null,
   "metadata": {},
   "outputs": [],
   "source": [
    "# DataFrame Overview\n",
    "df_business.head()"
   ]
  },
  {
   "cell_type": "code",
   "execution_count": null,
   "metadata": {},
   "outputs": [],
   "source": [
    "# DTypes Overview\n",
    "df_business.dtypes"
   ]
  },
  {
   "cell_type": "code",
   "execution_count": null,
   "metadata": {},
   "outputs": [],
   "source": [
    "df_economy.shape"
   ]
  },
  {
   "cell_type": "code",
   "execution_count": null,
   "metadata": {},
   "outputs": [],
   "source": [
    "df_business.shape"
   ]
  },
  {
   "cell_type": "code",
   "execution_count": null,
   "metadata": {},
   "outputs": [],
   "source": [
    "# Checking different airlines offering business class\n",
    "df_business['airline_name'].value_counts()"
   ]
  },
  {
   "cell_type": "code",
   "execution_count": null,
   "metadata": {},
   "outputs": [],
   "source": [
    "# Dropping columns that seem too hard to use or redudant (time_group easier to use than time)\n",
    "columns_to_drop = ['flight_date', 'flight_code', 'departure_time', 'arrival_time']\n",
    "ml_business = df_business.drop(columns=columns_to_drop)"
   ]
  },
  {
   "cell_type": "code",
   "execution_count": null,
   "metadata": {},
   "outputs": [],
   "source": [
    "# Dropping columns that seem too hard to use or redudant (time_group easier to use than time)\n",
    "columns_to_drop = ['flight_date', 'flight_code', 'departure_time', 'arrival_time']\n",
    "ml_economy = df_economy.drop(columns=columns_to_drop)"
   ]
  },
  {
   "cell_type": "code",
   "execution_count": null,
   "metadata": {},
   "outputs": [],
   "source": [
    "# Looking at price distribution for economy class flights (!!! Price in indian rupees)\n",
    "df_economy['price'].plot(kind='kde')"
   ]
  },
  {
   "cell_type": "code",
   "execution_count": null,
   "metadata": {},
   "outputs": [],
   "source": [
    "# Looking at price distribution for business class flights (!!! Price in indian rupees)\n",
    "df_business['price'].plot(kind='kde')"
   ]
  },
  {
   "cell_type": "markdown",
   "metadata": {},
   "source": [
    "# XGBoost with two separate models and two separate datasets"
   ]
  },
  {
   "cell_type": "code",
   "execution_count": null,
   "metadata": {},
   "outputs": [],
   "source": [
    "# Choosing which columns are categorical variables\n",
    "categorical_columns = ['airline_name', 'departure_city', 'arrival_city']\n",
    "\n",
    "# Apply one-hot encoding\n",
    "business_df = pd.get_dummies(ml_business, columns=categorical_columns)\n",
    "economy_df = pd.get_dummies(ml_economy, columns=categorical_columns)"
   ]
  },
  {
   "cell_type": "code",
   "execution_count": null,
   "metadata": {},
   "outputs": [],
   "source": [
    "# Label encode the categorical columns (assuming they are ordinal)\n",
    "label_encoder = LabelEncoder()\n",
    "\n",
    "# Apply LabelEncoder to categorical ordinal features\n",
    "business_df['departure_time_group'] = label_encoder.fit_transform(business_df['departure_time_group'])\n",
    "economy_df['departure_time_group'] = label_encoder.fit_transform(economy_df['departure_time_group'])\n",
    "\n",
    "business_df['arrival_time_group'] = label_encoder.fit_transform(business_df['arrival_time_group'])\n",
    "economy_df['arrival_time_group'] = label_encoder.fit_transform(economy_df['arrival_time_group'])"
   ]
  },
  {
   "cell_type": "code",
   "execution_count": null,
   "metadata": {},
   "outputs": [],
   "source": [
    "# This line of code has great power : \n",
    "# If you run the notebook with this line commented, the results will be opposite \n",
    "# -> 0.3xxx for economy class and 0.8xxx for business class\n",
    "# The only purpose of this line is to align every categorical feature column in each DataFrame\n",
    "# e.g. creating columns (filled with 0) for airlines not offering business class seats in the business_df\n",
    "# business_df, economy_df = economy_df.align(business_df, join='outer', axis=1, fill_value=0)\n",
    "# I don't have a good explanation for these results sadly ..."
   ]
  },
  {
   "cell_type": "code",
   "execution_count": null,
   "metadata": {},
   "outputs": [],
   "source": [
    "# Define target and features\n",
    "X_business = business_df.drop('price', axis=1)\n",
    "y_business = business_df['price']\n",
    "\n",
    "X_economy = economy_df.drop('price', axis=1)\n",
    "y_economy = economy_df['price']\n",
    "\n",
    "# Split the data into training and testing sets\n",
    "X_train_b, X_test_b, y_train_b, y_test_b = train_test_split(X_business, y_business, test_size=0.2, random_state=42)\n",
    "X_train_e, X_test_e, y_train_e, y_test_e = train_test_split(X_economy, y_economy, test_size=0.2, random_state=42)\n",
    "\n",
    "# Initialize the XGBoost regressor\n",
    "xgb_regressor_e = xgboost.XGBRegressor(objective='reg:squarederror', n_estimators=100, max_depth=6, learning_rate=0.5)\n",
    "xgb_regressor_b = xgboost.XGBRegressor(objective='reg:squarederror', n_estimators=100, max_depth=6, learning_rate=0.5)\n",
    "\n",
    "# Fit the model for business class\n",
    "xgb_regressor_b.fit(X_train_b, y_train_b)\n",
    "\n",
    "# Fit the model for economy class\n",
    "xgb_regressor_e.fit(X_train_e, y_train_e)\n"
   ]
  },
  {
   "cell_type": "code",
   "execution_count": null,
   "metadata": {},
   "outputs": [],
   "source": [
    "# Checking that the align function worked correctly (if not commented out)\n",
    "# economy_df.columns == business_df.columns"
   ]
  },
  {
   "cell_type": "code",
   "execution_count": null,
   "metadata": {},
   "outputs": [],
   "source": [
    "# Predict on test data for business class\n",
    "y_pred_b = xgb_regressor_b.predict(X_test_b)\n",
    "\n",
    "# Predict on test data for economy class\n",
    "y_pred_e = xgb_regressor_e.predict(X_test_e)\n",
    "\n",
    "# Evaluate the model using R2 and RMSE\n",
    "r2_b = r2_score(y_test_b, y_pred_b)\n",
    "rmse_b = np.sqrt(mean_squared_error(y_test_b, y_pred_b))\n",
    "\n",
    "r2_e = r2_score(y_test_e, y_pred_e)\n",
    "rmse_e = np.sqrt(mean_squared_error(y_test_e, y_pred_e))\n",
    "\n",
    "print(f\"Business Class R²: {r2_b:.4f}\")\n",
    "print(f\"Business Class RMSE: {rmse_b:.4f}\")\n",
    "\n",
    "print(f\"Economy Class R²: {r2_e:.4f}\")\n",
    "print(f\"Economy Class RMSE: {rmse_e:.4f}\")\n"
   ]
  },
  {
   "cell_type": "markdown",
   "metadata": {},
   "source": [
    "Price Prediction Scatterplots"
   ]
  },
  {
   "cell_type": "code",
   "execution_count": null,
   "metadata": {},
   "outputs": [],
   "source": [
    "# comma formatter\n",
    "def comma_format(x, pos):\n",
    "    return f'{int(x):,}'\n",
    "\n",
    "# Business Class\n",
    "plt.figure(figsize=(8, 6))\n",
    "scatter = plt.scatter(y_test_b, y_pred_b, c=y_pred_b, cmap='viridis', alpha=0.6)\n",
    "plt.plot([min(y_test_b), max(y_test_b)], [min(y_test_b), max(y_test_b)], color='lightcoral', linestyle='--')\n",
    "plt.title('Actual vs Predicted Prices for Business Class (INR)')\n",
    "plt.xlabel('Actual Prices (INR)')\n",
    "plt.ylabel('Predicted Prices (INR)')\n",
    "plt.grid(True)\n",
    "\n",
    "# Apply the formatter to the x and y axis tick labels\n",
    "plt.gca().xaxis.set_major_formatter(FuncFormatter(comma_format))\n",
    "plt.gca().yaxis.set_major_formatter(FuncFormatter(comma_format))\n",
    "\n",
    "# add legend\n",
    "plt.colorbar(scatter, label='Predicted Prices (INR)')\n",
    "\n",
    "plt.show()\n",
    "\n",
    "# Actual vs Predicted Plot for Economy Class with Gradient (Viridis)\n",
    "plt.figure(figsize=(8, 6))\n",
    "scatter_e = plt.scatter(y_test_e, y_pred_e, c=y_pred_e, cmap='viridis', alpha=0.6)\n",
    "plt.plot([min(y_test_e), max(y_test_e)], [min(y_test_e), max(y_test_e)], color='lightcoral', linestyle='--')\n",
    "plt.title('Actual vs Predicted Prices for Economy Class (INR)')\n",
    "plt.xlabel('Actual Prices (INR)')\n",
    "plt.ylabel('Predicted Prices (INR)')\n",
    "plt.grid(True)\n",
    "\n",
    "# Apply the formatter to the x and y axis tick labels\n",
    "plt.gca().xaxis.set_major_formatter(FuncFormatter(comma_format))\n",
    "plt.gca().yaxis.set_major_formatter(FuncFormatter(comma_format))\n",
    "\n",
    "# add legend\n",
    "plt.colorbar(scatter_e, label='Predicted Prices (INR)')\n",
    "\n",
    "plt.show()"
   ]
  },
  {
   "cell_type": "markdown",
   "metadata": {},
   "source": [
    "## Results\n",
    "\n",
    "The results above seem odd. The business model performed correctly for the business class with a R² of 0.86 whereas the performance of economy model for economy class isn't good -> R² of 0.36 BUT way lower RMSE (might be because the price range is lower for economy class).\n",
    "\n",
    "Such a great difference between the 2 models is hard to understand and could be due to a lot of parameters :\n",
    "- Hyperparameters tuning : maybe one dataset requires one set of hyperparameters, and the other one requires a different one\n",
    "- Parameters distribution : we saw before creating our models that the price distribution was (obviously) very different for each class\n",
    "- Outliers : we didn't compute anything related to outliers except for the price distribution\n",
    "- Aligning columns when using different models may not be necessary\n",
    "- Size of datasets : we have way less values for business class than for economy class"
   ]
  },
  {
   "cell_type": "code",
   "execution_count": null,
   "metadata": {},
   "outputs": [],
   "source": [
    "# Plot feature importance for business class\n",
    "xgboost.plot_importance(xgb_regressor_b, importance_type='weight', max_num_features=10)\n",
    "plt.title('Feature Importance (Business Class)')\n",
    "plt.show()\n",
    "\n",
    "# Plot feature importance for economy class\n",
    "xgboost.plot_importance(xgb_regressor_e, importance_type='weight', max_num_features=10)\n",
    "plt.title('Feature Importance (Economy Class)')\n",
    "plt.show()\n"
   ]
  },
  {
   "cell_type": "markdown",
   "metadata": {},
   "source": [
    "## Feature importance\n",
    "\n",
    "We can see that the airline_name has a greater importance for economy class than for business class. It makes sense because there are much more different airlines in economy class than in business class. It seems weird that Air India particularly takes so much importance in economy class because we saw at the the beginning that it's a company that is also offering business seats.\n",
    "\n",
    "Below, we'll try another way to compute this problem : XGBoost with one combined dataset and one model"
   ]
  },
  {
   "cell_type": "markdown",
   "metadata": {},
   "source": [
    "# XGBoost with one combined dataset"
   ]
  },
  {
   "cell_type": "code",
   "execution_count": null,
   "metadata": {},
   "outputs": [],
   "source": [
    "# Add a class column to both datasets\n",
    "ml_business['class']='business'\n",
    "ml_economy['class']='economy'\n",
    "\n",
    "# Concatenate the datasets into one containing everything\n",
    "ml = pd.concat([ml_business, ml_economy], ignore_index=True)\n",
    "\n",
    "# Shuffle the dataset randomly and reset the index\n",
    "ml = ml.sample(frac=1)\n",
    "ml = ml.reset_index(drop=True)\n",
    "ml.head()"
   ]
  },
  {
   "cell_type": "code",
   "execution_count": null,
   "metadata": {},
   "outputs": [],
   "source": [
    "# Checking descriptive statistics of the price columns\n",
    "ml['price'].describe()"
   ]
  },
  {
   "cell_type": "code",
   "execution_count": null,
   "metadata": {},
   "outputs": [],
   "source": [
    "# Confirming what we see in descriptive statistics visually : price isn't normally distributed and it makes sense because there's a high difference\n",
    "# Between economy class and business class price-wise\n",
    "ml['price'].plot(kind='kde')"
   ]
  },
  {
   "cell_type": "code",
   "execution_count": null,
   "metadata": {},
   "outputs": [],
   "source": [
    "# Separate features in a DataFrame\n",
    "features = ml.drop(columns='price')\n",
    "# One Hot Encoding categorical features\n",
    "dummy_features = pd.get_dummies(features)\n",
    "# Separate target (price) in a variable\n",
    "target = ml['price']\n",
    "\n",
    "# Create training and testing sets\n",
    "X_train, X_test, Y_train, Y_test = train_test_split(dummy_features, target, test_size=0.2, random_state=42)"
   ]
  },
  {
   "cell_type": "code",
   "execution_count": null,
   "metadata": {},
   "outputs": [],
   "source": [
    "# Create the same model used before and fit it with our training data\n",
    "xgb_regressor = xgboost.XGBRegressor(objective='reg:squarederror', n_estimators=100, max_depth=6)\n",
    "xgb_regressor.fit(X_train, Y_train)"
   ]
  },
  {
   "cell_type": "code",
   "execution_count": null,
   "metadata": {},
   "outputs": [],
   "source": [
    "# Predict on test data\n",
    "y_pred = xgb_regressor.predict(X_test)\n",
    "\n",
    "# Evaluate the model using R2 and RMSE\n",
    "r2 = r2_score(Y_test, y_pred)\n",
    "rmse = np.sqrt(mean_squared_error(Y_test, y_pred))\n",
    "\n",
    "print(f\"R²: {r2:.4f}\")\n",
    "print(f\"RMSE: {rmse:.4f}\")"
   ]
  },
  {
   "cell_type": "markdown",
   "metadata": {},
   "source": [
    "## Results\n",
    "\n",
    "The R² Score is very close to 1 (0.97) so this is a very good result. The RMSE is a bit high but if we convert it to euros, that would represent a mean squared error of 22 €. For a squared error, and a price range of 122k indian rupees or 1366 €, it seems fine.\n",
    "\n",
    "Those results may not be very representative because we used a dataset that was : \n",
    "- Unbalanced : 2 times more values for economy class than for business class\n",
    "- Without a normal price distribution\n",
    "\n",
    "We'll try using a well-balanced dataset and training another model on it"
   ]
  },
  {
   "cell_type": "code",
   "execution_count": null,
   "metadata": {},
   "outputs": [],
   "source": [
    "# Plot feature importance\n",
    "xgboost.plot_importance(xgb_regressor, importance_type='weight', max_num_features=10)\n",
    "plt.title('Feature Importance')\n",
    "plt.show()"
   ]
  },
  {
   "cell_type": "markdown",
   "metadata": {},
   "source": [
    "# Using a balanced dataset to train yet another XGBoost model"
   ]
  },
  {
   "cell_type": "code",
   "execution_count": null,
   "metadata": {},
   "outputs": [],
   "source": [
    "# Create another dataset by concatenating 45% of economy dataset and all business dataset (they are rougly the same size)\n",
    "ml_balanced = pd.concat([ml_business, ml_economy.sample(frac=0.45, random_state=42)])"
   ]
  },
  {
   "cell_type": "code",
   "execution_count": null,
   "metadata": {},
   "outputs": [],
   "source": [
    "# Ensuring we have approximatively the same number of values for economy class\n",
    "ml_balanced[ml_balanced['class'] == 'economy'].shape"
   ]
  },
  {
   "cell_type": "code",
   "execution_count": null,
   "metadata": {},
   "outputs": [],
   "source": [
    "# And business class\n",
    "ml_balanced[ml_balanced['class'] == 'business'].shape"
   ]
  },
  {
   "cell_type": "code",
   "execution_count": null,
   "metadata": {},
   "outputs": [],
   "source": [
    "# Separate features in a DataFrame\n",
    "features_balanced = ml_balanced.drop(columns='price')\n",
    "# One Hot Encoding categorical features\n",
    "dummy_features_balanced = pd.get_dummies(features_balanced)\n",
    "# Separate target (price) in a variable\n",
    "target_balanced = ml_balanced['price']"
   ]
  },
  {
   "cell_type": "code",
   "execution_count": null,
   "metadata": {},
   "outputs": [],
   "source": [
    "# Create training and testing sets\n",
    "X_train_balanced, X_test_balanced, Y_train_balanced, Y_test_balanced = train_test_split(dummy_features_balanced, target_balanced, test_size=0.2, random_state=42)"
   ]
  },
  {
   "cell_type": "code",
   "execution_count": null,
   "metadata": {},
   "outputs": [],
   "source": [
    "# Create the same model used before and fit it with our balanced training data\n",
    "xgb_regressor_balanced = xgboost.XGBRegressor(objective='reg:squarederror', n_estimators=100, max_depth=6)\n",
    "xgb_regressor_balanced.fit(X_train_balanced, Y_train_balanced)"
   ]
  },
  {
   "cell_type": "code",
   "execution_count": null,
   "metadata": {},
   "outputs": [],
   "source": [
    "# Predict on test data\n",
    "y_pred_balanced = xgb_regressor_balanced.predict(X_test_balanced)\n",
    "\n",
    "# Evaluate the model using R2 and RMSE\n",
    "r2_balanced = r2_score(Y_test_balanced, y_pred_balanced)\n",
    "rmse_balanced = np.sqrt(mean_squared_error(Y_test_balanced, y_pred_balanced))\n",
    "\n",
    "print(f\"R²: {r2_balanced:.4f}\")\n",
    "print(f\"RMSE: {rmse_balanced:.4f}\")"
   ]
  },
  {
   "cell_type": "markdown",
   "metadata": {},
   "source": [
    "## Results \n",
    "\n",
    "The results are a tiny bit worse but very similar. We can conclude that with a better balanced dataset, our model still performs really well."
   ]
  }
 ],
 "metadata": {
  "kernelspec": {
   "display_name": "Python 3 (ipykernel)",
   "language": "python",
   "name": "python3"
  },
  "language_info": {
   "codemirror_mode": {
    "name": "ipython",
    "version": 3
   },
   "file_extension": ".py",
   "mimetype": "text/x-python",
   "name": "python",
   "nbconvert_exporter": "python",
   "pygments_lexer": "ipython3",
   "version": "3.12.2"
  }
 },
 "nbformat": 4,
 "nbformat_minor": 4
}
